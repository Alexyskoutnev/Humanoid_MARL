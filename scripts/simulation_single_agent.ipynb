{
 "cells": [
  {
   "cell_type": "code",
   "execution_count": null,
   "metadata": {},
   "outputs": [],
   "source": [
    "import torch\n",
    "\n",
    "# Humandoid MARL\n",
    "from Humanoid_MARL import envs\n",
    "from Humanoid_MARL.envs.base_env import GymWrapper, VectorGymWrapper\n",
    "from Humanoid_MARL.utils.torch_utils import save_models, load_models\n",
    "from Humanoid_MARL.agent.ppo.train_torch import eval_unroll, get_agent_actions\n",
    "from Humanoid_MARL.agent.ppo.agent import Agent\n",
    "from Humanoid_MARL.envs.torch_wrapper import TorchWrapper\n",
    "from IPython.display import HTML\n",
    "from brax.io import html\n",
    "import jax\n",
    "from Humanoid_MARL import envs\n",
    "from Humanoid_MARL.utils.utils import load_reward_config\n",
    "from Humanoid_MARL import CONFIG_REWARD"
   ]
  },
  {
   "cell_type": "code",
   "execution_count": null,
   "metadata": {},
   "outputs": [],
   "source": [
    "\n",
    "config = {\n",
    "        'num_timesteps': 100_000_000,\n",
    "        'eval_frequency': 10,\n",
    "        'episode_length': 1000,\n",
    "        'unroll_length': 10,\n",
    "        'num_minibatches': 32,\n",
    "        'num_update_epochs': 8,\n",
    "        'discounting': 0.97,\n",
    "        'learning_rate': 3e-4,\n",
    "        'entropy_cost': 1e-3,\n",
    "        'num_envs': 2048,\n",
    "        'batch_size': 512,\n",
    "        'env_name': \"humanoid\",\n",
    "        'render' : False,\n",
    "        'device' : 'cuda',\n",
    "        'model_path' : \"../models/20240227_115117_ppo_humanoid_standing_dim_246.pt\",\n",
    "        'video_length' : 300,\n",
    "    }\n",
    "env_config = load_reward_config(CONFIG_REWARD, config['env_name'])\n",
    "env = envs.create(\n",
    "        config['env_name'], batch_size=None, episode_length=config['episode_length'], backend=\"generalized\", **env_config\n",
    "    )\n",
    "env = GymWrapper(env, get_jax_state=True)\n",
    "env = TorchWrapper(env, device=config['device'], get_jax_state=True)\n",
    "\n",
    "# env warmup\n",
    "observation = env.reset()\n",
    "action = torch.zeros(env.action_space.shape[0] * env.num_agents).to(config['device'])\n",
    "env.step(action)\n",
    "jax_states = []\n",
    "num_steps = 1000\n",
    "agents = load_models(config['model_path'], Agent, device=config['device'])"
   ]
  },
  {
   "cell_type": "code",
   "execution_count": null,
   "metadata": {},
   "outputs": [],
   "source": [
    "eval_reward = 0.0\n",
    "episodes = torch.zeros((), device = config['device'])\n",
    "for i in range(num_steps):\n",
    "    print(f\"{i} / {num_steps}\")\n",
    "    logits, action = get_agent_actions(agents, observation, env.obs_dims)\n",
    "    jax_state, observation, reward, done, info = env.step(Agent.dist_postprocess(action[0]))\n",
    "    episodes += torch.sum(done)\n",
    "    jax_states.append(jax_state)\n",
    "    print(f\"{i} | {info} | DONE [{done}] | Reward [{reward}]\")\n",
    "    eval_reward += reward\n",
    "print(f\"Total Reward | {eval_reward / episodes}\")"
   ]
  },
  {
   "cell_type": "code",
   "execution_count": null,
   "metadata": {},
   "outputs": [],
   "source": [
    "HTML(html.render(env.sys, [jax_state.pipeline_state for jax_state in jax_states])) "
   ]
  },
  {
   "cell_type": "code",
   "execution_count": null,
   "metadata": {},
   "outputs": [],
   "source": [
    "HTML(html.render(env.sys, [jax_state.pipeline_state for jax_state in jax_states])) "
   ]
  }
 ],
 "metadata": {
  "kernelspec": {
   "display_name": "humanoid",
   "language": "python",
   "name": "python3"
  },
  "language_info": {
   "codemirror_mode": {
    "name": "ipython",
    "version": 3
   },
   "file_extension": ".py",
   "mimetype": "text/x-python",
   "name": "python",
   "nbconvert_exporter": "python",
   "pygments_lexer": "ipython3",
   "version": "3.11.5"
  }
 },
 "nbformat": 4,
 "nbformat_minor": 2
}
