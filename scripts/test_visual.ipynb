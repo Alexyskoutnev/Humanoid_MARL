{
 "cells": [
  {
   "cell_type": "code",
   "execution_count": 1,
   "metadata": {},
   "outputs": [],
   "source": [
    "import torch\n",
    "import yaml\n",
    "import os\n",
    "\n",
    "# Humandoid MARL\n",
    "from Humanoid_MARL.envs.base_env import GymWrapper, VectorGymWrapper\n",
    "from Humanoid_MARL.utils.torch_utils import save_models, load_models, load_models_empty\n",
    "from Humanoid_MARL.agent.ppo.train_torch import Agent, eval_unroll, get_agent_actions\n",
    "from Humanoid_MARL.envs.torch_wrapper import TorchWrapper\n",
    "from IPython.display import HTML, clear_output\n",
    "from brax.io import html\n",
    "import jax\n",
    "from Humanoid_MARL import envs\n",
    "from Humanoid_MARL.utils.utils import load_reward_config, load_config"
   ]
  },
  {
   "cell_type": "code",
   "execution_count": 2,
   "metadata": {},
   "outputs": [],
   "source": [
    "env_name = \"linked_balls\"\n",
    "config = load_config(env_name)\n",
    "env = envs.create(config['env_name'], auto_reset=True, **config['env_config'])\n",
    "env = GymWrapper(env, get_jax_state=True)\n",
    "env = TorchWrapper(env, device=config['train_config']['device'], get_jax_state=True)\n",
    "\n",
    "model_path = None\n",
    "observation = env.reset()\n",
    "action = torch.zeros(env.action_space.shape[0] * env.num_agents).to(config['train_config']['device'])\n",
    "env.step(action)\n",
    "agents = load_models_empty(model_path, Agent, device=config['train_config']['device'], network_config=config['network_config'], training_config=config['train_config'], num_agents=1) "
   ]
  },
  {
   "cell_type": "code",
   "execution_count": 3,
   "metadata": {},
   "outputs": [
    {
     "name": "stdout",
     "output_type": "stream",
     "text": [
      "0 / 1000\n",
      "action tensor([0.1000, 0.1000], device='cuda:0')\n"
     ]
    }
   ],
   "source": [
    "jax_states = []\n",
    "num_steps = 1000\n",
    "eval_reward = 0.0\n",
    "episodes = torch.zeros((), device = config['train_config']['device'])\n",
    "for i in range(num_steps):\n",
    "    print(f\"{i} / {num_steps}\")\n",
    "    action = torch.ones(env.action_space.shape[0] * env.num_agents).to(config['train_config']['device']) * 0.1\n",
    "    # action[0] = 0.0\n",
    "    # action[1] = 0.0\n",
    "    # if num_steps > 500:\n",
    "    #     action[0] = 1\n",
    "    #     # action[1] = -1\n",
    "    # else:\n",
    "    #     action[0] = 1\n",
    "        # action[1] = 1\n",
    "    print(\"action\", action)\n",
    "    jax_state, observation, reward, done, info = env.step(action)\n",
    "    episodes += torch.sum(done)\n",
    "    jax_states.append(jax_state)\n",
    "    eval_reward += reward\n",
    "    if done:\n",
    "        observation = env.reset()\n",
    "print(f\"Total Reward | {eval_reward / episodes}\")"
   ]
  },
  {
   "cell_type": "code",
   "execution_count": null,
   "metadata": {},
   "outputs": [],
   "source": [
    "HTML(html.render(env.sys, [jax_state.pipeline_state for jax_state in jax_states])) "
   ]
  },
  {
   "cell_type": "code",
   "execution_count": null,
   "metadata": {},
   "outputs": [],
   "source": [
    "HTML(html.render(env.sys, [jax_state.pipeline_state for jax_state in jax_states])) "
   ]
  }
 ],
 "metadata": {
  "kernelspec": {
   "display_name": "humanoid",
   "language": "python",
   "name": "python3"
  },
  "language_info": {
   "codemirror_mode": {
    "name": "ipython",
    "version": 3
   },
   "file_extension": ".py",
   "mimetype": "text/x-python",
   "name": "python",
   "nbconvert_exporter": "python",
   "pygments_lexer": "ipython3",
   "version": "3.11.5"
  }
 },
 "nbformat": 4,
 "nbformat_minor": 2
}
