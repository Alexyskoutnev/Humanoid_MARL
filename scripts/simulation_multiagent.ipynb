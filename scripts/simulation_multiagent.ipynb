{
 "cells": [
  {
   "cell_type": "code",
   "execution_count": 3,
   "metadata": {},
   "outputs": [],
   "source": [
    "import torch\n",
    "\n",
    "# Humandoid MARL\n",
    "from Humanoid_MARL import envs\n",
    "from Humanoid_MARL.envs.base_env import GymWrapper, VectorGymWrapper\n",
    "from Humanoid_MARL.utils.torch_utils import save_models, load_models\n",
    "from Humanoid_MARL.agent.ppo.train_torch import Agent, eval_unroll, get_agent_actions\n",
    "from Humanoid_MARL.envs.torch_wrapper import TorchWrapper\n",
    "from IPython.display import HTML, clear_output\n",
    "from brax.io import html\n",
    "import jax\n",
    "from Humanoid_MARL import envs\n",
    "from Humanoid_MARL.utils.utils import load_reward_config\n",
    "from Humanoid_MARL import CONFIG_REWARD\n",
    "import mediapy as media"
   ]
  },
  {
   "cell_type": "code",
   "execution_count": 4,
   "metadata": {},
   "outputs": [
    {
     "ename": "RuntimeError",
     "evalue": "CUDA error: out of memory\nCUDA kernel errors might be asynchronously reported at some other API call, so the stacktrace below might be incorrect.\nFor debugging consider passing CUDA_LAUNCH_BLOCKING=1.\nCompile with `TORCH_USE_CUDA_DSA` to enable device-side assertions.\n",
     "output_type": "error",
     "traceback": [
      "\u001b[0;31m---------------------------------------------------------------------------\u001b[0m",
      "\u001b[0;31mRuntimeError\u001b[0m                              Traceback (most recent call last)",
      "Cell \u001b[0;32mIn[4], line 36\u001b[0m\n\u001b[1;32m     34\u001b[0m action \u001b[38;5;241m=\u001b[39m torch\u001b[38;5;241m.\u001b[39mzeros(env\u001b[38;5;241m.\u001b[39maction_space\u001b[38;5;241m.\u001b[39mshape[\u001b[38;5;241m0\u001b[39m] \u001b[38;5;241m*\u001b[39m env\u001b[38;5;241m.\u001b[39mnum_agents)\u001b[38;5;241m.\u001b[39mto(config[\u001b[38;5;124m'\u001b[39m\u001b[38;5;124mdevice\u001b[39m\u001b[38;5;124m'\u001b[39m])\n\u001b[1;32m     35\u001b[0m env\u001b[38;5;241m.\u001b[39mstep(action)\n\u001b[0;32m---> 36\u001b[0m agents \u001b[38;5;241m=\u001b[39m \u001b[43mload_models\u001b[49m\u001b[43m(\u001b[49m\u001b[43mconfig\u001b[49m\u001b[43m[\u001b[49m\u001b[38;5;124;43m'\u001b[39;49m\u001b[38;5;124;43mmodel_path\u001b[39;49m\u001b[38;5;124;43m'\u001b[39;49m\u001b[43m]\u001b[49m\u001b[43m,\u001b[49m\u001b[43m \u001b[49m\u001b[43mAgent\u001b[49m\u001b[43m,\u001b[49m\u001b[43m \u001b[49m\u001b[43mdevice\u001b[49m\u001b[38;5;241;43m=\u001b[39;49m\u001b[43mconfig\u001b[49m\u001b[43m[\u001b[49m\u001b[38;5;124;43m'\u001b[39;49m\u001b[38;5;124;43mdevice\u001b[39;49m\u001b[38;5;124;43m'\u001b[39;49m\u001b[43m]\u001b[49m\u001b[43m)\u001b[49m\n\u001b[1;32m     37\u001b[0m jax_states \u001b[38;5;241m=\u001b[39m []\n\u001b[1;32m     38\u001b[0m num_steps \u001b[38;5;241m=\u001b[39m \u001b[38;5;241m1000\u001b[39m\n",
      "File \u001b[0;32m~/Documents/Humanoid_MARL/Humanoid_MARL/utils/torch_utils.py:44\u001b[0m, in \u001b[0;36mload_models\u001b[0;34m(filename, agent_class, device)\u001b[0m\n\u001b[1;32m     42\u001b[0m \u001b[38;5;28;01mfor\u001b[39;00m agent_dict \u001b[38;5;129;01min\u001b[39;00m state_dicts[\u001b[38;5;124m\"\u001b[39m\u001b[38;5;124magents\u001b[39m\u001b[38;5;124m\"\u001b[39m]:\n\u001b[1;32m     43\u001b[0m     index \u001b[38;5;241m=\u001b[39m agent_dict[\u001b[38;5;124m\"\u001b[39m\u001b[38;5;124mindex\u001b[39m\u001b[38;5;124m\"\u001b[39m]\n\u001b[0;32m---> 44\u001b[0m     agent \u001b[38;5;241m=\u001b[39m \u001b[43magent_class\u001b[49m\u001b[43m(\u001b[49m\u001b[38;5;241;43m*\u001b[39;49m\u001b[38;5;241;43m*\u001b[39;49m\u001b[43mnetwork_arch\u001b[49m\u001b[43m)\u001b[49m\u001b[38;5;241m.\u001b[39mto(device)\n\u001b[1;32m     45\u001b[0m     agent\u001b[38;5;241m.\u001b[39mpolicy\u001b[38;5;241m.\u001b[39mload_state_dict(agent_dict[\u001b[38;5;124mf\u001b[39m\u001b[38;5;124m\"\u001b[39m\u001b[38;5;124magent_policy_\u001b[39m\u001b[38;5;132;01m{\u001b[39;00mindex\u001b[38;5;132;01m}\u001b[39;00m\u001b[38;5;124m\"\u001b[39m])\n\u001b[1;32m     46\u001b[0m     agent\u001b[38;5;241m.\u001b[39mvalue\u001b[38;5;241m.\u001b[39mload_state_dict(agent_dict[\u001b[38;5;124mf\u001b[39m\u001b[38;5;124m\"\u001b[39m\u001b[38;5;124magent_value_\u001b[39m\u001b[38;5;132;01m{\u001b[39;00mindex\u001b[38;5;132;01m}\u001b[39;00m\u001b[38;5;124m\"\u001b[39m])\n",
      "File \u001b[0;32m~/Documents/Humanoid_MARL/Humanoid_MARL/agent/ppo/agent.py:36\u001b[0m, in \u001b[0;36mAgent.__init__\u001b[0;34m(self, policy_layers, value_layers, entropy_cost, discounting, reward_scaling, device)\u001b[0m\n\u001b[1;32m     33\u001b[0m value\u001b[38;5;241m.\u001b[39mpop()  \u001b[38;5;66;03m# drop the final activation\u001b[39;00m\n\u001b[1;32m     34\u001b[0m \u001b[38;5;28mself\u001b[39m\u001b[38;5;241m.\u001b[39mvalue \u001b[38;5;241m=\u001b[39m nn\u001b[38;5;241m.\u001b[39mSequential(\u001b[38;5;241m*\u001b[39mvalue)\n\u001b[0;32m---> 36\u001b[0m \u001b[38;5;28mself\u001b[39m\u001b[38;5;241m.\u001b[39mnum_steps \u001b[38;5;241m=\u001b[39m \u001b[43mtorch\u001b[49m\u001b[38;5;241;43m.\u001b[39;49m\u001b[43mzeros\u001b[49m\u001b[43m(\u001b[49m\u001b[43m(\u001b[49m\u001b[43m)\u001b[49m\u001b[43m,\u001b[49m\u001b[43m \u001b[49m\u001b[43mdevice\u001b[49m\u001b[38;5;241;43m=\u001b[39;49m\u001b[43mdevice\u001b[49m\u001b[43m)\u001b[49m\n\u001b[1;32m     37\u001b[0m \u001b[38;5;28mself\u001b[39m\u001b[38;5;241m.\u001b[39mrunning_mean \u001b[38;5;241m=\u001b[39m torch\u001b[38;5;241m.\u001b[39mzeros(policy_layers[\u001b[38;5;241m0\u001b[39m], device\u001b[38;5;241m=\u001b[39mdevice)\n\u001b[1;32m     38\u001b[0m \u001b[38;5;28mself\u001b[39m\u001b[38;5;241m.\u001b[39mrunning_variance \u001b[38;5;241m=\u001b[39m torch\u001b[38;5;241m.\u001b[39mzeros(policy_layers[\u001b[38;5;241m0\u001b[39m], device\u001b[38;5;241m=\u001b[39mdevice)\n",
      "\u001b[0;31mRuntimeError\u001b[0m: CUDA error: out of memory\nCUDA kernel errors might be asynchronously reported at some other API call, so the stacktrace below might be incorrect.\nFor debugging consider passing CUDA_LAUNCH_BLOCKING=1.\nCompile with `TORCH_USE_CUDA_DSA` to enable device-side assertions.\n"
     ]
    }
   ],
   "source": [
    "config = {\n",
    "        'num_timesteps': 100_000_000,\n",
    "        'eval_frequency': 10,\n",
    "        'episode_length': 1000,\n",
    "        'unroll_length': 10,\n",
    "        'num_minibatches': 32,\n",
    "        'num_update_epochs': 8,\n",
    "        'discounting': 0.97,\n",
    "        'learning_rate': 3e-4,\n",
    "        'entropy_cost': 1e-3,\n",
    "        'num_envs': 2048,\n",
    "        'batch_size': 512,\n",
    "        'env_name': \"humanoids\",\n",
    "        'render' : True,\n",
    "        'device' : 'cpu',\n",
    "        'model_path' : \"../models/20240226_082641_ppo_humanoids_standing.pt\",\n",
    "        'video_length' : 300,\n",
    "        'device_idx': 1\n",
    "    }\n",
    "\n",
    "\n",
    "env_config = load_reward_config(CONFIG_REWARD, config['env_name'])\n",
    "env = envs.create(\n",
    "        config['env_name'],\n",
    "        auto_reset=False,\n",
    "        **env_config,\n",
    "    )\n",
    "\n",
    "env = GymWrapper(env, get_jax_state=True)\n",
    "env = TorchWrapper(env, device=config['device'], get_jax_state=True)\n",
    "\n",
    "# env warmup\n",
    "observation = env.reset()\n",
    "action = torch.zeros(env.action_space.shape[0] * env.num_agents).to(config['device'])\n",
    "env.step(action)\n",
    "agents = load_models(config['model_path'], Agent, device=config['device'])\n",
    "jax_states = []\n",
    "num_steps = 1000\n",
    "\n",
    "eval_reward = 0.0\n",
    "episodes = torch.zeros((), device = config['device'])\n",
    "for i in range(num_steps):\n",
    "    print(f\"{i} / {num_steps}\")\n",
    "    logits, action = get_agent_actions(agents, observation, env.obs_dims)\n",
    "    jax_state, observation, reward, done, info = env.step(Agent.dist_postprocess(action[0]))\n",
    "    episodes += torch.sum(done)\n",
    "    jax_states.append(jax_state)\n",
    "    print(f\"{i} | {info} | DONE [{done}] | Reward [{reward}]\")\n",
    "    eval_reward += reward\n",
    "print(f\"Total Reward | {eval_reward / episodes}\")"
   ]
  },
  {
   "cell_type": "code",
   "execution_count": null,
   "metadata": {},
   "outputs": [],
   "source": [
    "HTML(html.render(env.sys, [jax_state.pipeline_state for jax_state in jax_states])) "
   ]
  },
  {
   "cell_type": "code",
   "execution_count": null,
   "metadata": {},
   "outputs": [],
   "source": [
    "HTML(html.render(env.sys, [jax_state.pipeline_state for jax_state in jax_states])) "
   ]
  }
 ],
 "metadata": {
  "kernelspec": {
   "display_name": "humanoid",
   "language": "python",
   "name": "python3"
  },
  "language_info": {
   "codemirror_mode": {
    "name": "ipython",
    "version": 3
   },
   "file_extension": ".py",
   "mimetype": "text/x-python",
   "name": "python",
   "nbconvert_exporter": "python",
   "pygments_lexer": "ipython3",
   "version": "3.11.5"
  }
 },
 "nbformat": 4,
 "nbformat_minor": 2
}
