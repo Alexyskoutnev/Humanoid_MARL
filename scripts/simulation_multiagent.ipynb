{
 "cells": [
  {
   "cell_type": "code",
   "execution_count": 1,
   "metadata": {},
   "outputs": [],
   "source": [
    "import torch\n",
    "import yaml\n",
    "import os\n",
    "\n",
    "# Humandoid MARL\n",
    "from Humanoid_MARL.envs.base_env import GymWrapper, VectorGymWrapper\n",
    "from Humanoid_MARL.utils.torch_utils import save_models, load_models\n",
    "from Humanoid_MARL.agent.ppo.train_humanoids import Agent, eval_unroll, get_agent_actions\n",
    "from Humanoid_MARL.envs.torch_wrapper import TorchWrapper\n",
    "from IPython.display import HTML, clear_output\n",
    "from brax.io import html\n",
    "import jax\n",
    "from Humanoid_MARL import envs\n",
    "from Humanoid_MARL.utils.utils import load_reward_config, load_config"
   ]
  },
  {
   "cell_type": "code",
   "execution_count": 2,
   "metadata": {},
   "outputs": [
    {
     "ename": "RuntimeError",
     "evalue": "CUDA error: out of memory\nCUDA kernel errors might be asynchronously reported at some other API call, so the stacktrace below might be incorrect.\nFor debugging consider passing CUDA_LAUNCH_BLOCKING=1.\nCompile with `TORCH_USE_CUDA_DSA` to enable device-side assertions.\n",
     "output_type": "error",
     "traceback": [
      "\u001b[0;31m---------------------------------------------------------------------------\u001b[0m",
      "\u001b[0;31mRuntimeError\u001b[0m                              Traceback (most recent call last)",
      "Cell \u001b[0;32mIn[2], line 19\u001b[0m\n\u001b[1;32m     17\u001b[0m action \u001b[38;5;241m=\u001b[39m torch\u001b[38;5;241m.\u001b[39mzeros(env\u001b[38;5;241m.\u001b[39maction_space\u001b[38;5;241m.\u001b[39mshape[\u001b[38;5;241m0\u001b[39m] \u001b[38;5;241m*\u001b[39m env\u001b[38;5;241m.\u001b[39mnum_agents)\u001b[38;5;241m.\u001b[39mto(config[\u001b[38;5;124m'\u001b[39m\u001b[38;5;124mtrain_config\u001b[39m\u001b[38;5;124m'\u001b[39m][\u001b[38;5;124m'\u001b[39m\u001b[38;5;124mdevice\u001b[39m\u001b[38;5;124m'\u001b[39m])\n\u001b[1;32m     18\u001b[0m env\u001b[38;5;241m.\u001b[39mstep(action)\n\u001b[0;32m---> 19\u001b[0m agents \u001b[38;5;241m=\u001b[39m \u001b[43mload_models\u001b[49m\u001b[43m(\u001b[49m\u001b[43mmodel_path\u001b[49m\u001b[43m,\u001b[49m\u001b[43m \u001b[49m\u001b[43mAgent\u001b[49m\u001b[43m,\u001b[49m\u001b[43m \u001b[49m\u001b[43mdevice\u001b[49m\u001b[38;5;241;43m=\u001b[39;49m\u001b[43mconfig\u001b[49m\u001b[43m[\u001b[49m\u001b[38;5;124;43m'\u001b[39;49m\u001b[38;5;124;43mtrain_config\u001b[39;49m\u001b[38;5;124;43m'\u001b[39;49m\u001b[43m]\u001b[49m\u001b[43m[\u001b[49m\u001b[38;5;124;43m'\u001b[39;49m\u001b[38;5;124;43mdevice\u001b[39;49m\u001b[38;5;124;43m'\u001b[39;49m\u001b[43m]\u001b[49m\u001b[43m)\u001b[49m\n\u001b[1;32m     20\u001b[0m jax_states \u001b[38;5;241m=\u001b[39m []\n\u001b[1;32m     21\u001b[0m num_steps \u001b[38;5;241m=\u001b[39m \u001b[38;5;241m1000\u001b[39m\n",
      "File \u001b[0;32m~/Documents/Humanoid_MARL/Humanoid_MARL/utils/torch_utils.py:72\u001b[0m, in \u001b[0;36mload_models\u001b[0;34m(filename, agent_class, device)\u001b[0m\n\u001b[1;32m     70\u001b[0m \u001b[38;5;28;01mfor\u001b[39;00m agent_dict \u001b[38;5;129;01min\u001b[39;00m state_dicts[\u001b[38;5;124m\"\u001b[39m\u001b[38;5;124magents\u001b[39m\u001b[38;5;124m\"\u001b[39m]:\n\u001b[1;32m     71\u001b[0m     index \u001b[38;5;241m=\u001b[39m agent_dict[\u001b[38;5;124m\"\u001b[39m\u001b[38;5;124mindex\u001b[39m\u001b[38;5;124m\"\u001b[39m]\n\u001b[0;32m---> 72\u001b[0m     agent \u001b[38;5;241m=\u001b[39m \u001b[43magent_class\u001b[49m\u001b[43m(\u001b[49m\u001b[38;5;241;43m*\u001b[39;49m\u001b[38;5;241;43m*\u001b[39;49m\u001b[43mnetwork_arch\u001b[49m\u001b[43m)\u001b[49m\u001b[38;5;241m.\u001b[39mto(device)\n\u001b[1;32m     73\u001b[0m     agent\u001b[38;5;241m.\u001b[39mpolicy\u001b[38;5;241m.\u001b[39mload_state_dict(agent_dict[\u001b[38;5;124mf\u001b[39m\u001b[38;5;124m\"\u001b[39m\u001b[38;5;124magent_policy_\u001b[39m\u001b[38;5;132;01m{\u001b[39;00mindex\u001b[38;5;132;01m}\u001b[39;00m\u001b[38;5;124m\"\u001b[39m])\n\u001b[1;32m     74\u001b[0m     agent\u001b[38;5;241m.\u001b[39mvalue\u001b[38;5;241m.\u001b[39mload_state_dict(agent_dict[\u001b[38;5;124mf\u001b[39m\u001b[38;5;124m\"\u001b[39m\u001b[38;5;124magent_value_\u001b[39m\u001b[38;5;132;01m{\u001b[39;00mindex\u001b[38;5;132;01m}\u001b[39;00m\u001b[38;5;124m\"\u001b[39m])\n",
      "File \u001b[0;32m~/Documents/Humanoid_MARL/Humanoid_MARL/agent/ppo/agent.py:33\u001b[0m, in \u001b[0;36mAgent.__init__\u001b[0;34m(self, policy_layers, value_layers, entropy_cost, discounting, reward_scaling, device, network_config)\u001b[0m\n\u001b[1;32m     30\u001b[0m     \u001b[38;5;28mself\u001b[39m\u001b[38;5;241m.\u001b[39mpolicy \u001b[38;5;241m=\u001b[39m MLP\u001b[38;5;241m.\u001b[39mconstruct(policy_layers)\n\u001b[1;32m     31\u001b[0m     \u001b[38;5;28mself\u001b[39m\u001b[38;5;241m.\u001b[39mvalue \u001b[38;5;241m=\u001b[39m MLP\u001b[38;5;241m.\u001b[39mconstruct(value_layers)\n\u001b[0;32m---> 33\u001b[0m \u001b[38;5;28mself\u001b[39m\u001b[38;5;241m.\u001b[39mnum_steps \u001b[38;5;241m=\u001b[39m \u001b[43mtorch\u001b[49m\u001b[38;5;241;43m.\u001b[39;49m\u001b[43mzeros\u001b[49m\u001b[43m(\u001b[49m\u001b[43m(\u001b[49m\u001b[43m)\u001b[49m\u001b[43m,\u001b[49m\u001b[43m \u001b[49m\u001b[43mdevice\u001b[49m\u001b[38;5;241;43m=\u001b[39;49m\u001b[43mdevice\u001b[49m\u001b[43m)\u001b[49m\n\u001b[1;32m     34\u001b[0m \u001b[38;5;28mself\u001b[39m\u001b[38;5;241m.\u001b[39mrunning_mean \u001b[38;5;241m=\u001b[39m torch\u001b[38;5;241m.\u001b[39mzeros(policy_layers[\u001b[38;5;241m0\u001b[39m], device\u001b[38;5;241m=\u001b[39mdevice)\n\u001b[1;32m     35\u001b[0m \u001b[38;5;28mself\u001b[39m\u001b[38;5;241m.\u001b[39mrunning_variance \u001b[38;5;241m=\u001b[39m torch\u001b[38;5;241m.\u001b[39mzeros(policy_layers[\u001b[38;5;241m0\u001b[39m], device\u001b[38;5;241m=\u001b[39mdevice)\n",
      "\u001b[0;31mRuntimeError\u001b[0m: CUDA error: out of memory\nCUDA kernel errors might be asynchronously reported at some other API call, so the stacktrace below might be incorrect.\nFor debugging consider passing CUDA_LAUNCH_BLOCKING=1.\nCompile with `TORCH_USE_CUDA_DSA` to enable device-side assertions.\n"
     ]
    }
   ],
   "source": [
    "env_name = \"ants\"\n",
    "config = load_config(env_name)\n",
    "env = envs.create(config['env_name'], auto_reset=True, **config['env_config'])\n",
    "env = GymWrapper(env, get_jax_state=True)\n",
    "env = TorchWrapper(env, device=config['train_config']['device'], get_jax_state=True)\n",
    "\n",
    "# model = \"models/20240412_133034_ppo_ants_82575360.pt\"\n",
    "# model = \"models/20240412_133034_ppo_ants_41287680.pt\" # Good 1\n",
    "# model = \"models/20240412_133034_ppo_ants_82575360.pt\" # Good 2\n",
    "# model = \"models/20240412_133034_ppo_ants_115015680.pt\" # BAD 2\n",
    "# model = \"models/20240412_162055_ppo_ants_655360.pt\"\n",
    "model = \"20240413_122238_ppo_ants_150405120.pt\"\n",
    "\n",
    "model_path = os.path.join(\"../models/\", model)\n",
    "# env warmup\n",
    "observation = env.reset()\n",
    "action = torch.zeros(env.action_space.shape[0] * env.num_agents).to(config['train_config']['device'])\n",
    "env.step(action)\n",
    "agents = load_models(model_path, Agent, device=config['train_config']['device'])\n",
    "jax_states = []\n",
    "num_steps = 1000\n",
    "\n",
    "eval_reward = 0.0\n",
    "episodes = torch.zeros((), device = config['train_config']['device'])\n",
    "for i in range(num_steps):\n",
    "    print(f\"{i} / {num_steps}\")\n",
    "    logits, action = get_agent_actions(agents, observation, env.obs_dims)\n",
    "    if config['agent_config'].get(\"freeze_idx\"):\n",
    "        action[:,config['agent_config'].get(\"freeze_idx\") * 8:(config['agent_config'].get(\"freeze_idx\") * 8) + 8] =  torch.ones_like(action[:,config['agent_config'].get(\"freeze_idx\") * 8:(config['agent_config'].get(\"freeze_idx\") * 8) + 8]) * 0\n",
    "    jax_state, observation, reward, done, info = env.step(Agent.dist_postprocess(action[0]))\n",
    "    episodes += torch.sum(done)\n",
    "    jax_states.append(jax_state)\n",
    "    print(f\"{i} | {info} | DONE [{done}] | Reward [{reward}]\")\n",
    "    print(f\"{i} | Action {action}\")\n",
    "    eval_reward += reward\n",
    "    if done:\n",
    "        observation = env.reset()\n",
    "        print(f\"Episode Done\")\n",
    "        print(f\"Total Reward | {eval_reward / episodes}\")\n",
    "print(f\"Total Reward | {eval_reward / episodes}\")"
   ]
  },
  {
   "cell_type": "code",
   "execution_count": null,
   "metadata": {},
   "outputs": [],
   "source": [
    "HTML(html.render(env.sys, [jax_state.pipeline_state for jax_state in jax_states])) "
   ]
  },
  {
   "cell_type": "code",
   "execution_count": null,
   "metadata": {},
   "outputs": [],
   "source": [
    "HTML(html.render(env.sys, [jax_state.pipeline_state for jax_state in jax_states])) "
   ]
  }
 ],
 "metadata": {
  "kernelspec": {
   "display_name": "humanoid",
   "language": "python",
   "name": "python3"
  },
  "language_info": {
   "codemirror_mode": {
    "name": "ipython",
    "version": 3
   },
   "file_extension": ".py",
   "mimetype": "text/x-python",
   "name": "python",
   "nbconvert_exporter": "python",
   "pygments_lexer": "ipython3",
   "version": "3.11.5"
  }
 },
 "nbformat": 4,
 "nbformat_minor": 2
}
