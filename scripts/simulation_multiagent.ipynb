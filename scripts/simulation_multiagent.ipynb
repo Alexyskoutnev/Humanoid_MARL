{
 "cells": [
  {
   "cell_type": "code",
   "execution_count": null,
   "metadata": {},
   "outputs": [],
   "source": [
    "import torch\n",
    "import yaml\n",
    "import os\n",
    "\n",
    "# Humandoid MARL\n",
    "from Humanoid_MARL.envs.base_env import GymWrapper, VectorGymWrapper\n",
    "from Humanoid_MARL.utils.torch_utils import save_models, load_models\n",
    "from Humanoid_MARL.agent.ppo.train_torch import Agent, eval_unroll, get_agent_actions\n",
    "from Humanoid_MARL.envs.torch_wrapper import TorchWrapper\n",
    "from IPython.display import HTML, clear_output\n",
    "from brax.io import html\n",
    "import jax\n",
    "from Humanoid_MARL import envs\n",
    "from Humanoid_MARL.utils.utils import load_reward_config, load_config"
   ]
  },
  {
   "cell_type": "code",
   "execution_count": null,
   "metadata": {},
   "outputs": [],
   "source": [
    "env_name = \"point_mass\"\n",
    "config = load_config(env_name)\n",
    "env = envs.create(config['env_name'], auto_reset=True, **config['env_config'])\n",
    "env = GymWrapper(env, get_jax_state=True)\n",
    "env = TorchWrapper(env, device=config['train_config']['device'], get_jax_state=True)\n",
    "\n",
    "model = \"models/20240331_111145_ppo_point_mass.pt\"\n",
    "model_path = os.path.join(\"../\", model)\n",
    "# env warmup\n",
    "observation = env.reset()\n",
    "action = torch.zeros(env.action_space.shape[0] * env.num_agents).to(config['train_config']['device'])\n",
    "env.step(action)\n",
    "agents = load_models(model_path, Agent, device=config['train_config']['device'])\n",
    "jax_states = []\n",
    "num_steps = 1000\n",
    "\n",
    "eval_reward = 0.0\n",
    "episodes = torch.zeros((), device = config['train_config']['device'])\n",
    "for i in range(num_steps):\n",
    "    print(f\"{i} / {num_steps}\")\n",
    "    logits, action = get_agent_actions(agents, observation, env.obs_dims)\n",
    "    if config['agent_config'].get(\"freeze_idx\"):\n",
    "        action[:,config['agent_config'].get(\"freeze_idx\") * 8:(config['agent_config'].get(\"freeze_idx\") * 8) + 8] =  torch.ones_like(action[:,config['agent_config'].get(\"freeze_idx\") * 8:(config['agent_config'].get(\"freeze_idx\") * 8) + 8]) * 0\n",
    "    jax_state, observation, reward, done, info = env.step(Agent.dist_postprocess(action[0]))\n",
    "    episodes += torch.sum(done)\n",
    "    jax_states.append(jax_state)\n",
    "    print(f\"{i} | {info} | DONE [{done}] | Reward [{reward}]\")\n",
    "    eval_reward += reward\n",
    "    if done:\n",
    "        observation = env.reset()\n",
    "        print(f\"Episode Done\")\n",
    "        print(f\"Total Reward | {eval_reward / episodes}\")\n",
    "print(f\"Total Reward | {eval_reward / episodes}\")"
   ]
  },
  {
   "cell_type": "code",
   "execution_count": null,
   "metadata": {},
   "outputs": [],
   "source": [
    "HTML(html.render(env.sys, [jax_state.pipeline_state for jax_state in jax_states])) "
   ]
  },
  {
   "cell_type": "code",
   "execution_count": null,
   "metadata": {},
   "outputs": [],
   "source": [
    "HTML(html.render(env.sys, [jax_state.pipeline_state for jax_state in jax_states])) "
   ]
  }
 ],
 "metadata": {
  "kernelspec": {
   "display_name": "humanoid",
   "language": "python",
   "name": "python3"
  },
  "language_info": {
   "codemirror_mode": {
    "name": "ipython",
    "version": 3
   },
   "file_extension": ".py",
   "mimetype": "text/x-python",
   "name": "python",
   "nbconvert_exporter": "python",
   "pygments_lexer": "ipython3",
   "version": "3.11.5"
  }
 },
 "nbformat": 4,
 "nbformat_minor": 2
}
