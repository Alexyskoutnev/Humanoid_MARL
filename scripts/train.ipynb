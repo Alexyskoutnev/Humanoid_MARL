{
 "cells": [
  {
   "cell_type": "code",
   "execution_count": 6,
   "metadata": {},
   "outputs": [],
   "source": [
    "import os\n",
    "from datetime import datetime\n",
    "import numpy as np\n",
    "import wandb\n",
    "import matplotlib.pyplot as plt\n",
    "\n",
    "from Humanoid_MARL.agent.ppo.train_torch import train"
   ]
  },
  {
   "cell_type": "code",
   "execution_count": 7,
   "metadata": {},
   "outputs": [],
   "source": [
    "config = {\n",
    "        'num_timesteps': 100_000_000,\n",
    "        'eval_frequency': 10,\n",
    "        'episode_length': 1000,\n",
    "        'unroll_length': 10,\n",
    "        'num_minibatches': 32,\n",
    "        'num_update_epochs': 8,\n",
    "        'discounting': 0.97,\n",
    "        'learning_rate': 3e-3,\n",
    "        'entropy_cost': 1e-2,\n",
    "        'num_envs': 2048,\n",
    "        'batch_size': 512,\n",
    "        'env_name': \"humanoids\",\n",
    "        'render' : False,\n",
    "        'device' : 'cuda',\n",
    "        'debug' : False\n",
    "    }\n",
    "\n",
    "xdata = []\n",
    "ydata = []\n",
    "eval_sps = []\n",
    "train_sps = []\n",
    "times = [datetime.now()]\n",
    "\n",
    "def progress(num_steps, metrics, path=\"./data/ppo\", name=\"ppo_training_plot.png\"):\n",
    "    times.append(datetime.now())\n",
    "    xdata.append(num_steps)\n",
    "    ydata.append(metrics[\"eval/episode_reward\"].cpu())\n",
    "    eval_sps.append(metrics[\"speed/eval_sps\"])\n",
    "    train_sps.append(metrics[\"speed/sps\"])\n",
    "    plt.xlim([0, config['num_timesteps']])\n",
    "    plt.ylim([0, 6000])\n",
    "    plt.xlabel(\"# environment steps\")\n",
    "    plt.ylabel(\"reward per episode\")\n",
    "    plt.plot(xdata, ydata)\n",
    "    plt.show()"
   ]
  },
  {
   "cell_type": "code",
   "execution_count": 9,
   "metadata": {},
   "outputs": [
    {
     "ename": "RuntimeError",
     "evalue": "Parent directory ./models does not exist.",
     "output_type": "error",
     "traceback": [
      "\u001b[0;31m---------------------------------------------------------------------------\u001b[0m",
      "\u001b[0;31mRuntimeError\u001b[0m                              Traceback (most recent call last)",
      "Cell \u001b[0;32mIn[9], line 1\u001b[0m\n\u001b[0;32m----> 1\u001b[0m \u001b[43mtrain\u001b[49m\u001b[43m(\u001b[49m\u001b[38;5;241;43m*\u001b[39;49m\u001b[38;5;241;43m*\u001b[39;49m\u001b[43mconfig\u001b[49m\u001b[43m,\u001b[49m\u001b[43m \u001b[49m\u001b[43mprogress_fn\u001b[49m\u001b[38;5;241;43m=\u001b[39;49m\u001b[43mprogress\u001b[49m\u001b[43m)\u001b[49m\n",
      "File \u001b[0;32m~/Documents/Humanoid_MARL/Humanoid_MARL/agent/ppo/train_torch.py:406\u001b[0m, in \u001b[0;36mtrain\u001b[0;34m(env_name, num_envs, episode_length, device, num_timesteps, eval_frequency, unroll_length, batch_size, num_minibatches, num_update_epochs, reward_scaling, entropy_cost, discounting, learning_rate, render, debug, progress_fn)\u001b[0m\n\u001b[1;32m    399\u001b[0m network_arch \u001b[38;5;241m=\u001b[39m {\u001b[38;5;124m\"\u001b[39m\u001b[38;5;124mpolicy_layers\u001b[39m\u001b[38;5;124m\"\u001b[39m: policy_layers,\n\u001b[1;32m    400\u001b[0m                 \u001b[38;5;124m\"\u001b[39m\u001b[38;5;124mvalue_layers\u001b[39m\u001b[38;5;124m\"\u001b[39m: value_layers,\n\u001b[1;32m    401\u001b[0m                 \u001b[38;5;124m\"\u001b[39m\u001b[38;5;124mentropy_cost\u001b[39m\u001b[38;5;124m\"\u001b[39m: entropy_cost,\n\u001b[1;32m    402\u001b[0m                 \u001b[38;5;124m\"\u001b[39m\u001b[38;5;124mdiscounting\u001b[39m\u001b[38;5;124m\"\u001b[39m: discounting,\n\u001b[1;32m    403\u001b[0m                 \u001b[38;5;124m\"\u001b[39m\u001b[38;5;124mreward_scaling\u001b[39m\u001b[38;5;124m\"\u001b[39m: reward_scaling,\n\u001b[1;32m    404\u001b[0m                 \u001b[38;5;124m\"\u001b[39m\u001b[38;5;124mdevice\u001b[39m\u001b[38;5;124m\"\u001b[39m: device}\n\u001b[1;32m    405\u001b[0m agents \u001b[38;5;241m=\u001b[39m [Agent(\u001b[38;5;241m*\u001b[39m\u001b[38;5;241m*\u001b[39mnetwork_arch)\u001b[38;5;241m.\u001b[39mto(device), Agent(\u001b[38;5;241m*\u001b[39m\u001b[38;5;241m*\u001b[39mnetwork_arch)\u001b[38;5;241m.\u001b[39mto(device)]\n\u001b[0;32m--> 406\u001b[0m \u001b[43msave_models\u001b[49m\u001b[43m(\u001b[49m\u001b[43magents\u001b[49m\u001b[43m,\u001b[49m\u001b[43m \u001b[49m\u001b[43mnetwork_arch\u001b[49m\u001b[43m)\u001b[49m\n\u001b[1;32m    407\u001b[0m \u001b[38;5;28;01mif\u001b[39;00m \u001b[38;5;129;01mnot\u001b[39;00m debug:\n\u001b[1;32m    408\u001b[0m     agents \u001b[38;5;241m=\u001b[39m [torch\u001b[38;5;241m.\u001b[39mjit\u001b[38;5;241m.\u001b[39mscript(agent\u001b[38;5;241m.\u001b[39mto(device)) \u001b[38;5;28;01mfor\u001b[39;00m agent \u001b[38;5;129;01min\u001b[39;00m agents] \u001b[38;5;66;03m#Only uncomment once whole pipeline is implemented\u001b[39;00m\n",
      "File \u001b[0;32m~/Documents/Humanoid_MARL/Humanoid_MARL/utils/torch_utils.py:14\u001b[0m, in \u001b[0;36msave_models\u001b[0;34m(agents, network_arch, type)\u001b[0m\n\u001b[1;32m     12\u001b[0m \u001b[38;5;28;01mfor\u001b[39;00m i, agent \u001b[38;5;129;01min\u001b[39;00m \u001b[38;5;28menumerate\u001b[39m(agents):\n\u001b[1;32m     13\u001b[0m     state_dicts[\u001b[38;5;124mf\u001b[39m\u001b[38;5;124m'\u001b[39m\u001b[38;5;124magent_\u001b[39m\u001b[38;5;132;01m{\u001b[39;00mi\u001b[38;5;132;01m}\u001b[39;00m\u001b[38;5;124m'\u001b[39m] \u001b[38;5;241m=\u001b[39m agent\u001b[38;5;241m.\u001b[39mstate_dict()\n\u001b[0;32m---> 14\u001b[0m \u001b[43mtorch\u001b[49m\u001b[38;5;241;43m.\u001b[39;49m\u001b[43msave\u001b[49m\u001b[43m(\u001b[49m\u001b[43mstate_dicts\u001b[49m\u001b[43m,\u001b[49m\u001b[43m \u001b[49m\u001b[43mfilename\u001b[49m\u001b[43m)\u001b[49m\n\u001b[1;32m     15\u001b[0m \u001b[38;5;28mprint\u001b[39m(\u001b[38;5;124mf\u001b[39m\u001b[38;5;124m\"\u001b[39m\u001b[38;5;124mAgents saved to \u001b[39m\u001b[38;5;132;01m{\u001b[39;00mfilename\u001b[38;5;132;01m}\u001b[39;00m\u001b[38;5;124m\"\u001b[39m)\n",
      "File \u001b[0;32m~/.conda/envs/humanoid/lib/python3.11/site-packages/torch/serialization.py:618\u001b[0m, in \u001b[0;36msave\u001b[0;34m(obj, f, pickle_module, pickle_protocol, _use_new_zipfile_serialization, _disable_byteorder_record)\u001b[0m\n\u001b[1;32m    615\u001b[0m _check_save_filelike(f)\n\u001b[1;32m    617\u001b[0m \u001b[38;5;28;01mif\u001b[39;00m _use_new_zipfile_serialization:\n\u001b[0;32m--> 618\u001b[0m     \u001b[38;5;28;01mwith\u001b[39;00m \u001b[43m_open_zipfile_writer\u001b[49m\u001b[43m(\u001b[49m\u001b[43mf\u001b[49m\u001b[43m)\u001b[49m \u001b[38;5;28;01mas\u001b[39;00m opened_zipfile:\n\u001b[1;32m    619\u001b[0m         _save(obj, opened_zipfile, pickle_module, pickle_protocol, _disable_byteorder_record)\n\u001b[1;32m    620\u001b[0m         \u001b[38;5;28;01mreturn\u001b[39;00m\n",
      "File \u001b[0;32m~/.conda/envs/humanoid/lib/python3.11/site-packages/torch/serialization.py:492\u001b[0m, in \u001b[0;36m_open_zipfile_writer\u001b[0;34m(name_or_buffer)\u001b[0m\n\u001b[1;32m    490\u001b[0m \u001b[38;5;28;01melse\u001b[39;00m:\n\u001b[1;32m    491\u001b[0m     container \u001b[38;5;241m=\u001b[39m _open_zipfile_writer_buffer\n\u001b[0;32m--> 492\u001b[0m \u001b[38;5;28;01mreturn\u001b[39;00m \u001b[43mcontainer\u001b[49m\u001b[43m(\u001b[49m\u001b[43mname_or_buffer\u001b[49m\u001b[43m)\u001b[49m\n",
      "File \u001b[0;32m~/.conda/envs/humanoid/lib/python3.11/site-packages/torch/serialization.py:463\u001b[0m, in \u001b[0;36m_open_zipfile_writer_file.__init__\u001b[0;34m(self, name)\u001b[0m\n\u001b[1;32m    461\u001b[0m     \u001b[38;5;28msuper\u001b[39m()\u001b[38;5;241m.\u001b[39m\u001b[38;5;21m__init__\u001b[39m(torch\u001b[38;5;241m.\u001b[39m_C\u001b[38;5;241m.\u001b[39mPyTorchFileWriter(\u001b[38;5;28mself\u001b[39m\u001b[38;5;241m.\u001b[39mfile_stream))\n\u001b[1;32m    462\u001b[0m \u001b[38;5;28;01melse\u001b[39;00m:\n\u001b[0;32m--> 463\u001b[0m     \u001b[38;5;28msuper\u001b[39m()\u001b[38;5;241m.\u001b[39m\u001b[38;5;21m__init__\u001b[39m(\u001b[43mtorch\u001b[49m\u001b[38;5;241;43m.\u001b[39;49m\u001b[43m_C\u001b[49m\u001b[38;5;241;43m.\u001b[39;49m\u001b[43mPyTorchFileWriter\u001b[49m\u001b[43m(\u001b[49m\u001b[38;5;28;43mself\u001b[39;49m\u001b[38;5;241;43m.\u001b[39;49m\u001b[43mname\u001b[49m\u001b[43m)\u001b[49m)\n",
      "\u001b[0;31mRuntimeError\u001b[0m: Parent directory ./models does not exist."
     ]
    }
   ],
   "source": [
    "train(**config, progress_fn=progress)"
   ]
  },
  {
   "cell_type": "code",
   "execution_count": null,
   "metadata": {},
   "outputs": [],
   "source": [
    "print(f\"time to jit: {times[1] - times[0]}\")\n",
    "print(f\"time to train: {times[-1] - times[1]}\")\n",
    "print(f\"eval steps/sec: {np.mean(eval_sps)}\")\n",
    "print(f\"train steps/sec: {np.mean(train_sps)}\")"
   ]
  }
 ],
 "metadata": {
  "kernelspec": {
   "display_name": "humanoid",
   "language": "python",
   "name": "python3"
  },
  "language_info": {
   "codemirror_mode": {
    "name": "ipython",
    "version": 3
   },
   "file_extension": ".py",
   "mimetype": "text/x-python",
   "name": "python",
   "nbconvert_exporter": "python",
   "pygments_lexer": "ipython3",
   "version": "3.11.5"
  }
 },
 "nbformat": 4,
 "nbformat_minor": 2
}
